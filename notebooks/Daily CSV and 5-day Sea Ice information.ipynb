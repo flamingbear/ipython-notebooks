{
 "cells": [
  {
   "cell_type": "markdown",
   "metadata": {
    "collapsed": true
   },
   "source": [
    "# Create a month/day by Year view of the daily sea ice index data."
   ]
  },
  {
   "cell_type": "code",
   "execution_count": 1,
   "metadata": {
    "collapsed": false
   },
   "outputs": [],
   "source": [
    "tmp_dir = \"../data\""
   ]
  },
  {
   "cell_type": "code",
   "execution_count": 2,
   "metadata": {
    "collapsed": false
   },
   "outputs": [],
   "source": [
    "!mkdir -p ../data\n",
    "!wget -P ../data -qN ftp://sidads.colorado.edu/pub/DATASETS/NOAA/G02135/north/daily/data/NH_seaice_extent_final.csv\n",
    "!wget -P ../data -qN ftp://sidads.colorado.edu/pub/DATASETS/NOAA/G02135/north/daily/data/NH_seaice_extent_nrt.csv\n",
    "!wget -P ../data -qN ftp://sidads.colorado.edu/pub/DATASETS/NOAA/G02135/south/daily/data/SH_seaice_extent_final.csv\n",
    "!wget -P ../data -qN ftp://sidads.colorado.edu/pub/DATASETS/NOAA/G02135/south/daily/data/SH_seaice_extent_nrt.csv\n"
   ]
  },
  {
   "cell_type": "markdown",
   "metadata": {
    "collapsed": true
   },
   "source": [
    "Variables to set before running:\n"
   ]
  },
  {
   "cell_type": "code",
   "execution_count": 3,
   "metadata": {
    "collapsed": false
   },
   "outputs": [],
   "source": [
    "climatology_years = (1981, 2010)\n"
   ]
  },
  {
   "cell_type": "code",
   "execution_count": 4,
   "metadata": {
    "collapsed": false
   },
   "outputs": [],
   "source": [
    "import datetime as dt\n",
    "import numpy as np\n",
    "\n",
    "import os\n",
    "import pandas as pd\n",
    "from pandas import ExcelWriter\n",
    "%matplotlib inline\n",
    "import matplotlib as mpl\n",
    "import matplotlib.pyplot as plt\n",
    "pd.options.display.mpl_style = 'default'\n",
    "\n"
   ]
  },
  {
   "cell_type": "code",
   "execution_count": 5,
   "metadata": {
    "collapsed": false
   },
   "outputs": [],
   "source": [
    "def parse_the_date(year, mm, dd):\n",
    "    return dt.date(int(year), int(mm), int(dd))\n",
    "\n",
    "def slurp_csv(filename):\n",
    "    data = pd.read_csv(filename, header = None, skiprows=2,\n",
    "                       names=[\"year\", \"mm\", \"dd\", \"extent\", \"missing\", \"source\"],\n",
    "                       parse_dates={'date':['year', 'mm', 'dd']},\n",
    "                       date_parser=parse_the_date, index_col='date')\n",
    "    data = data.drop(['missing', 'source'], axis=1)\n",
    "    return data\n",
    "\n",
    "\n",
    "def read_a_hemisphere(hemisphere):\n",
    "    the_dir = '../data'\n",
    "    final_prod_filename = os.path.join(the_dir, '{hemi}H_seaice_extent_final.csv'.format(hemi=hemisphere[0:1].upper()))\n",
    "    nrt_prod_filename = os.path.join(the_dir, '{hemi}H_seaice_extent_nrt.csv'.format(hemi=hemisphere[0:1].upper()))\n",
    "\n",
    "    final = slurp_csv(final_prod_filename)\n",
    "    nrt = slurp_csv(nrt_prod_filename)\n",
    "    all_data = pd.concat([final, nrt])\n",
    "    all_data.index = pd.to_datetime(all_data.index)\n",
    "    all_data  = all_data.reindex(index=pd.date_range('1978-10-25', dt.date.today().strftime('%Y-%m-%d')))\n",
    "    all_data['hemi'] = hemisphere\n",
    "    return all_data\n",
    "\n"
   ]
  },
  {
   "cell_type": "code",
   "execution_count": 6,
   "metadata": {
    "collapsed": false
   },
   "outputs": [],
   "source": [
    "def interpolate_column_excluding_extended_missing_periods(df_in, column, interpolated_column):\n",
    "    df = df_in.copy()\n",
    "    df['backfill'] = df[column].fillna(method='bfill', limit=1)\n",
    "    df['forwardfill'] = df[column].fillna(method='ffill', limit=1)\n",
    "    is_really_nan = pd.isnull(df['backfill']) | pd.isnull(df['forwardfill'])\n",
    "    df[interpolated_column] = df[column].interpolate()\n",
    "    df.loc[is_really_nan,interpolated_column] = np.nan\n",
    "    df = df.drop(['forwardfill', 'backfill'], axis=1)\n",
    "    return df\n"
   ]
  },
  {
   "cell_type": "code",
   "execution_count": 7,
   "metadata": {
    "collapsed": false
   },
   "outputs": [],
   "source": [
    "def clim_string(climatology_years):\n",
    "    return  '{0}-{1}'.format(climatology_years[0], climatology_years[1])\n",
    "\n",
    "def get_climatological_means(df, column, climatology_years):\n",
    "    clim = df[(df.index.year >= climatology_years[0]) & (df.index.year <= climatology_years[1] )].copy()\n",
    "    clim = clim.groupby([clim.index.month, clim.index.day]).mean()[[column]]\n",
    "    clim = clim.rename(columns={column: clim_string(climatology_years)})\n",
    "    return clim"
   ]
  },
  {
   "cell_type": "code",
   "execution_count": 8,
   "metadata": {
    "collapsed": false
   },
   "outputs": [],
   "source": [
    "import calendar\n",
    "month_names = [calendar.month_name[x] for x in range(1,13)]\n",
    "\n",
    "def prepare_daily_dataframe(column, means, df_in, title):\n",
    "    df = df_in.copy()\n",
    "    df = df[[column]].set_index([df.index.year, df.index.month, df.index.day]).unstack(0)\n",
    "    df.columns = df.columns.droplevel(0)\n",
    "    space = means.copy()\n",
    "    space['1981-2010'] = \"    \"\n",
    "    space.rename(columns={'1981-2010': '   '}, inplace=True)\n",
    "    df = pd.concat([df, space, means.copy()], axis=1)\n",
    "    df[column] = title\n",
    "    df.set_index(column, append=True, inplace=True)\n",
    "    df = df.unstack(column)\n",
    "    df.columns = df.columns.reorder_levels([column, None])\n",
    "    df.index = df.index.set_levels(month_names, level=0)\n",
    "    return df\n",
    "\n",
    "\n"
   ]
  },
  {
   "cell_type": "code",
   "execution_count": 9,
   "metadata": {
    "collapsed": false
   },
   "outputs": [],
   "source": [
    "def compute_anomaly_from_extent_df(df, title):\n",
    "    a = df.copy()\n",
    "    values = np.array(a.iloc[:, 0:-2])\n",
    "    clim = np.array(a.iloc[:, -1])\n",
    "    means = np.tile(clim, (values.shape[1],1)).T\n",
    "    anomalies = values - means\n",
    "    a = pd.DataFrame(data=anomalies, index=a.index, columns=a.columns[0:-2])\n",
    "    a.columns = a.columns.set_levels([title], level=0)\n",
    "    return a"
   ]
  },
  {
   "cell_type": "code",
   "execution_count": 10,
   "metadata": {
    "collapsed": false
   },
   "outputs": [],
   "source": [
    "def compute_extent_and_5day_extent_for_hemisphere(hemisphere):\n",
    "    df = read_a_hemisphere(hemisphere)\n",
    "    df = interpolate_column_excluding_extended_missing_periods(df, 'extent', 'interpolated')\n",
    "    df['5 Day'] = pd.rolling_mean(df['interpolated'], window=5, min_periods=2)\n",
    "    daily_means = get_climatological_means(df, 'interpolated', climatology_years)\n",
    "    five_day_means = get_climatological_means(df, '5 Day', climatology_years)\n",
    "    extent = prepare_daily_dataframe('extent',daily_means , df, 'Daily Extents : with climatological means based on interpolated data')\n",
    "    average_extent = prepare_daily_dataframe('5 Day', five_day_means, df, 'Daily 5 Day Extents : with climatological means based on 5 day data')\n",
    "    extent_anomaly = compute_anomaly_from_extent_df(extent, 'Extent Anomaly')\n",
    "    avg_extent_anomaly = compute_anomaly_from_extent_df(average_extent, '5 Day Avg Ext Anomaly')\n",
    "    return {'Ext': extent, '5 Day Avg Ext': average_extent, 'Ext Anomaly': extent_anomaly, '5 Day Avg Ext Anomaly': avg_extent_anomaly }\n"
   ]
  },
  {
   "cell_type": "code",
   "execution_count": 11,
   "metadata": {
    "collapsed": false
   },
   "outputs": [],
   "source": [
    "def write_hemisphere(writer, df, abbv):\n",
    "    df['Ext'].to_excel(writer,\"{} Ext\".format(abbv),float_format = \"%.3f\")\n",
    "    df['5 Day Avg Ext'].to_excel(writer,\"{} 5 Day Avg Ext\".format(abbv),float_format = \"%.3f\")\n",
    "    df['Ext Anomaly'].to_excel(writer,\"{} Ext Anomaly\".format(abbv),float_format = \"%.3f\")\n",
    "    df['5 Day Avg Ext Anomaly'].to_excel(writer,\"{} 5 Day Avg Ext Anomaly\".format(abbv),float_format = \"%.3f\")\n",
    "\n",
    "    workbook = writer.book\n",
    "    # add colors blue with blue\n",
    "    format1 = workbook.add_format({'bg_color':   '#CEC7FF',\n",
    "                                   'font_color': '#06009C'})\n",
    "\n",
    "    # add colors red with red\n",
    "    format2 = workbook.add_format({'bg_color':   '#FFC7CE',\n",
    "                                   'font_color': '#9C0006'})\n",
    "\n",
    "    sheets = [\"{} Ext Anomaly\".format(abbv), \"{} 5 Day Avg Ext Anomaly\".format(abbv)]\n",
    "\n",
    "    for sheet in sheets:\n",
    "        worksheet = writer.sheets[sheet]\n",
    "        worksheet.conditional_format('C3:ZZ369', {'type':     'cell',\n",
    "                                                  'criteria': '>',\n",
    "                                                  'value':    0,\n",
    "                                                  'format':   format1})\n",
    "\n",
    "        worksheet.conditional_format('C3:ZZ369', {'type':     'cell',\n",
    "                                                  'criteria': '<',\n",
    "                                                  'value':    0,\n",
    "                                                  'format':   format2})\n",
    "\n"
   ]
  },
  {
   "cell_type": "code",
   "execution_count": 12,
   "metadata": {
    "collapsed": false
   },
   "outputs": [],
   "source": [
    "north = compute_extent_and_5day_extent_for_hemisphere('north')\n",
    "south = compute_extent_and_5day_extent_for_hemisphere('south')"
   ]
  },
  {
   "cell_type": "code",
   "execution_count": 13,
   "metadata": {
    "collapsed": false
   },
   "outputs": [],
   "source": [
    "writer = ExcelWriter('../output/Sea_Ice_Extent_Daily.xls', engine='xlsxwriter')\n",
    "\n",
    "write_hemisphere(writer, north, 'NH')\n",
    "write_hemisphere(writer, south, 'SH')\n",
    "\n",
    "writer.save()"
   ]
  },
  {
   "cell_type": "code",
   "execution_count": 14,
   "metadata": {
    "collapsed": false
   },
   "outputs": [],
   "source": [
    "# cleanup\n",
    "!cd ../data; rm -f NH_seaice_extent_final.csv NH_seaice_extent_nrt.csv SH_seaice_extent_final.csv SH_seaice_extent_nrt.csv"
   ]
  },
  {
   "cell_type": "code",
   "execution_count": null,
   "metadata": {
    "collapsed": false
   },
   "outputs": [],
   "source": []
  }
 ],
 "metadata": {
  "kernelspec": {
   "display_name": "Python 2",
   "language": "python",
   "name": "python2"
  },
  "language_info": {
   "codemirror_mode": {
    "name": "ipython",
    "version": 2
   },
   "file_extension": ".py",
   "mimetype": "text/x-python",
   "name": "python",
   "nbconvert_exporter": "python",
   "pygments_lexer": "ipython2",
   "version": "2.7.9"
  },
  "name": "Daily CSV and 5-day Sea Ice information.ipynb"
 },
 "nbformat": 4,
 "nbformat_minor": 0
}
