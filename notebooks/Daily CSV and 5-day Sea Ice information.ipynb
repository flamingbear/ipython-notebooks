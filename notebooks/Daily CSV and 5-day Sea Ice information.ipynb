{
 "cells": [
  {
   "cell_type": "markdown",
   "metadata": {
    "collapsed": true
   },
   "source": [
    "Reformat and do 5-day averaging on daily sea ice data."
   ]
  },
  {
   "cell_type": "code",
   "execution_count": 600,
   "metadata": {
    "collapsed": false
   },
   "outputs": [],
   "source": [
    "!wget -qN ftp://sidads.colorado.edu/pub/DATASETS/NOAA/G02135/north/daily/data/NH_seaice_extent_final.csv\n",
    "!wget -qN ftp://sidads.colorado.edu/pub/DATASETS/NOAA/G02135/north/daily/data/NH_seaice_extent_nrt.csv\n",
    "!wget -qN ftp://sidads.colorado.edu/pub/DATASETS/NOAA/G02135/south/daily/data/SH_seaice_extent_final.csv\n",
    "!wget -qN ftp://sidads.colorado.edu/pub/DATASETS/NOAA/G02135/south/daily/data/SH_seaice_extent_nrt.csv\n"
   ]
  },
  {
   "cell_type": "code",
   "execution_count": 601,
   "metadata": {
    "collapsed": false
   },
   "outputs": [],
   "source": [
    "import datetime as dt\n",
    "import numpy as np\n",
    "\n",
    "import os\n",
    "import pandas as pd\n",
    "from pandas import ExcelWriter\n",
    "%matplotlib inline\n",
    "import matplotlib as mpl\n",
    "import matplotlib.pyplot as plt\n",
    "pd.options.display.mpl_style = 'default'\n",
    "\n"
   ]
  },
  {
   "cell_type": "code",
   "execution_count": 602,
   "metadata": {
    "collapsed": false
   },
   "outputs": [],
   "source": [
    "\n",
    "def parse_the_date(year, mm, dd):\n",
    "    return dt.date(int(year), int(mm), int(dd))\n",
    "\n",
    "def slurp_csv(filename):\n",
    "    data = pd.read_csv(filename, header = None, skiprows=2,\n",
    "                       names=[\"year\", \"mm\", \"dd\", \"extent\", \"missing\", \"source\"],\n",
    "                       parse_dates={'date':['year', 'mm', 'dd']},\n",
    "                       date_parser=parse_the_date, index_col='date')\n",
    "    data = data.drop(['missing', 'source'], axis=1)\n",
    "    return data\n",
    "\n",
    "\n",
    "def read_a_hemisphere(hemisphere):\n",
    "    final_prod_filename = os.path.join('{hemi}H_seaice_extent_final.csv'.format(hemi=hemisphere[0:1].upper()))\n",
    "    nrt_prod_filename = os.path.join('{hemi}H_seaice_extent_nrt.csv'.format(hemi=hemisphere[0:1].upper()))\n",
    "\n",
    "    final = slurp_csv(final_prod_filename)\n",
    "    nrt = slurp_csv(nrt_prod_filename)\n",
    "    all_data = pd.concat([final, nrt])\n",
    "    return all_data\n",
    "\n"
   ]
  },
  {
   "cell_type": "code",
   "execution_count": 603,
   "metadata": {
    "collapsed": false
   },
   "outputs": [
    {
     "data": {
      "text/plain": [
       "            extent\ndate              \n1978-10-26  17.634\n1978-10-28  17.815\n1978-10-30  17.671\n1978-11-01  17.534\n1978-11-03  17.493"
      ]
     },
     "execution_count": 603,
     "metadata": {},
     "output_type": "execute_result"
    }
   ],
   "source": [
    "north = read_a_hemisphere('north')\n",
    "south = read_a_hemisphere('south')\n",
    "south.head()"
   ]
  },
  {
   "cell_type": "markdown",
   "metadata": {
    "collapsed": true
   },
   "source": [
    "Set indices to datetime indexes"
   ]
  },
  {
   "cell_type": "code",
   "execution_count": 572,
   "metadata": {
    "collapsed": false
   },
   "outputs": [],
   "source": [
    "north.index = pd.to_datetime(north.index)\n",
    "south.index = pd.to_datetime(south.index)"
   ]
  },
  {
   "cell_type": "code",
   "execution_count": 604,
   "metadata": {
    "collapsed": false
   },
   "outputs": [],
   "source": [
    "north  = north.reindex(index=pd.date_range('1978-10-25', dt.date.today().strftime('%Y-%m-%d')))\n",
    "south  = south.reindex(index=pd.date_range('1978-10-25', dt.date.today().strftime('%Y-%m-%d')))"
   ]
  },
  {
   "cell_type": "code",
   "execution_count": 605,
   "metadata": {
    "collapsed": false
   },
   "outputs": [
    {
     "data": {
      "text/plain": [
       "            extent\n1978-10-25     NaN\n1978-10-26  10.231\n1978-10-27     NaN\n1978-10-28  10.420\n1978-10-29     NaN"
      ]
     },
     "execution_count": 605,
     "metadata": {},
     "output_type": "execute_result"
    }
   ],
   "source": [
    "north.head()"
   ]
  },
  {
   "cell_type": "code",
   "execution_count": 606,
   "metadata": {
    "collapsed": false
   },
   "outputs": [],
   "source": [
    "south['hemi'] = 'South'\n",
    "north['hemi'] = 'North'"
   ]
  },
  {
   "cell_type": "code",
   "execution_count": 648,
   "metadata": {
    "collapsed": false
   },
   "outputs": [],
   "source": [
    "df = north.copy()"
   ]
  },
  {
   "cell_type": "markdown",
   "metadata": {
    "collapsed": true
   },
   "source": [
    "## interpolate missing data in SMMR period.\n",
    "\n",
    "We don't want to interpolate across any timeperiods where more than one day\n",
    "of data is missing.  So we are going to union the NaN that remain after a\n",
    "back fill and forward fill in order to leave any gaps in the data record\n",
    "alone.\n",
    "\n",
    "So start by using the backfill to fill any NaN locations that have a valid \"next\" value.\n",
    "So start by using the forwardfill to fill any NaN locations that have a valid \"previous\" value."
   ]
  },
  {
   "cell_type": "code",
   "execution_count": 649,
   "metadata": {
    "collapsed": false
   },
   "outputs": [],
   "source": [
    "df['backfill'] = df.extent.fillna(method='bfill', limit=1)\n",
    "df['forwardfill'] = df.extent.fillna(method='ffill', limit=1)\n"
   ]
  },
  {
   "cell_type": "code",
   "execution_count": 650,
   "metadata": {
    "collapsed": false
   },
   "outputs": [
    {
     "data": {
      "text/plain": [
       "            extent   hemi  backfill  forwardfill\n1978-10-25     NaN  North    10.231          NaN\n1978-10-26  10.231  North    10.231       10.231\n1978-10-27     NaN  North    10.420       10.231\n1978-10-28  10.420  North    10.420       10.420\n1978-10-29     NaN  North    10.557       10.420"
      ]
     },
     "execution_count": 650,
     "metadata": {},
     "output_type": "execute_result"
    }
   ],
   "source": [
    "df.head()"
   ]
  },
  {
   "cell_type": "code",
   "execution_count": 651,
   "metadata": {
    "collapsed": false
   },
   "outputs": [
    {
     "data": {
      "text/plain": [
       "            extent   hemi  backfill  forwardfill\n1987-12-01  12.504  North    12.504       12.504\n1987-12-02  12.600  North    12.600       12.600\n1987-12-03     NaN  North       NaN       12.600\n1987-12-04     NaN  North       NaN          NaN\n1987-12-05     NaN  North       NaN          NaN\n1987-12-06     NaN  North       NaN          NaN"
      ]
     },
     "execution_count": 651,
     "metadata": {},
     "output_type": "execute_result"
    }
   ],
   "source": [
    "df['19871201':'19871206']"
   ]
  },
  {
   "cell_type": "code",
   "execution_count": 652,
   "metadata": {
    "collapsed": false
   },
   "outputs": [
    {
     "data": {
      "text/plain": [
       "            extent   hemi  backfill  forwardfill\n1988-01-10     NaN  North       NaN          NaN\n1988-01-11     NaN  North       NaN          NaN\n1988-01-12     NaN  North    14.826          NaN\n1988-01-13  14.826  North    14.826       14.826\n1988-01-14  14.854  North    14.854       14.854"
      ]
     },
     "execution_count": 652,
     "metadata": {},
     "output_type": "execute_result"
    }
   ],
   "source": [
    "df['19880110':'19880114']"
   ]
  },
  {
   "cell_type": "markdown",
   "metadata": {
    "collapsed": true
   },
   "source": [
    "So the union of backfill's NaN and forward fill NaN will capture any missing\n",
    "data that doesn't have a valid data point both previously and nextly in the series."
   ]
  },
  {
   "cell_type": "code",
   "execution_count": 653,
   "metadata": {
    "collapsed": false
   },
   "outputs": [],
   "source": [
    "is_really_nan = pd.isnull(df['backfill']) | pd.isnull(df['forwardfill'])"
   ]
  },
  {
   "cell_type": "markdown",
   "metadata": {
    "collapsed": true
   },
   "source": [
    "Use the interpolation scheme to do simple linear regression"
   ]
  },
  {
   "cell_type": "code",
   "execution_count": 654,
   "metadata": {
    "collapsed": false
   },
   "outputs": [],
   "source": [
    "df['interpolated'] = df.extent.interpolate()"
   ]
  },
  {
   "cell_type": "markdown",
   "metadata": {
    "collapsed": true
   },
   "source": [
    "Mark missing any large gaps in the linearly interpolated data and drop the backfill and forwardfill columns"
   ]
  },
  {
   "cell_type": "code",
   "execution_count": 655,
   "metadata": {
    "collapsed": false
   },
   "outputs": [],
   "source": [
    "df[is_really_nan].interpolated = np.nan\n",
    "df.drop(['forwardfill', 'backfill'], axis=1, inplace=True)"
   ]
  },
  {
   "cell_type": "markdown",
   "metadata": {
    "collapsed": true
   },
   "source": [
    "So now we have a simple dataframe with daily extents and daily interpolated extents"
   ]
  },
  {
   "cell_type": "code",
   "execution_count": 656,
   "metadata": {
    "collapsed": false
   },
   "outputs": [
    {
     "data": {
      "text/plain": [
       "            extent   hemi  interpolated\n1978-10-25     NaN  North           NaN\n1978-10-26  10.231  North       10.2310\n1978-10-27     NaN  North       10.3255\n1978-10-28  10.420  North       10.4200\n1978-10-29     NaN  North       10.4885"
      ]
     },
     "execution_count": 656,
     "metadata": {},
     "output_type": "execute_result"
    }
   ],
   "source": [
    "df.head()"
   ]
  },
  {
   "cell_type": "markdown",
   "metadata": {
    "collapsed": true
   },
   "source": [
    "Compute climatological means by fetching just the data between your desired climatology."
   ]
  },
  {
   "cell_type": "code",
   "execution_count": 659,
   "metadata": {
    "collapsed": false
   },
   "outputs": [],
   "source": [
    "climatology_years = (1981, 2010)\n",
    "clim_data = df[(df.index.year >= climatology_years[0])&(df.index.year <= climatology_years[1] )].copy()"
   ]
  },
  {
   "cell_type": "code",
   "execution_count": 664,
   "metadata": {
    "collapsed": false
   },
   "outputs": [
    {
     "name": "stdout",
     "output_type": "stream",
     "text": [
      "            extent   hemi  interpolated\n",
      "1981-01-01  14.288  North       14.2880\n",
      "1981-01-02     NaN  North       14.3955\n",
      "1981-01-03  14.503  North       14.5030\n",
      "1981-01-04     NaN  North       14.4810\n",
      "1981-01-05  14.459  North       14.4590 \n",
      "...\n",
      "            extent   hemi  interpolated\n",
      "2010-12-27  12.358  North        12.358\n",
      "2010-12-28  12.398  North        12.398\n",
      "2010-12-29  12.457  North        12.457\n",
      "2010-12-30  12.558  North        12.558\n",
      "2010-12-31  12.670  North        12.670\n"
     ]
    }
   ],
   "source": [
    "print clim_data.head(),\"\\n...\\n\" ,clim_data.tail()"
   ]
  },
  {
   "cell_type": "code",
   "execution_count": 675,
   "metadata": {
    "collapsed": false
   },
   "outputs": [
    {
     "name": "stdout",
     "output_type": "stream",
     "text": [
      "30\n",
      "[1981 1982 1983 1984 1985 1986 1987 1988 1989 1990 1991 1992 1993 1994 1995\n",
      " 1996 1997 1998 1999 2000 2001 2002 2003 2004 2005 2006 2007 2008 2009 2010]\n"
     ]
    }
   ],
   "source": [
    "print len(np.unique(clim_data.index.year))\n",
    "print np.unique(clim_data.index.year)"
   ]
  },
  {
   "cell_type": "markdown",
   "metadata": {
    "collapsed": true
   },
   "source": [
    "grab the mean value of the interpolated extents for each month/day combination"
   ]
  },
  {
   "cell_type": "code",
   "execution_count": 684,
   "metadata": {
    "collapsed": false
   },
   "outputs": [],
   "source": [
    "clim_averages = clim_data.groupby([clim_data.index.month, clim_data.index.day]).mean()[['interpolated']]\n"
   ]
  },
  {
   "cell_type": "markdown",
   "metadata": {
    "collapsed": true
   },
   "source": [
    "**check yourself**:  You can see in the three panels below that the value we get by calling\n",
    "`mean()` on the `groupby` result is the same as expected by averaging the day\n",
    "and month data separately"
   ]
  },
  {
   "cell_type": "code",
   "execution_count": 689,
   "metadata": {
    "collapsed": false
   },
   "outputs": [
    {
     "data": {
      "text/plain": [
       "            extent   hemi  interpolated\n1981-01-01  14.288  North       14.2880\n1982-01-01     NaN  North       14.3710\n1983-01-01  14.257  North       14.2570\n1984-01-01     NaN  North       14.0065\n1985-01-01     NaN  North       13.9460\n1986-01-01  14.036  North       14.0360\n1987-01-01     NaN  North       14.1970\n1988-01-01     NaN  North       14.1900\n1989-01-01  14.261  North       14.2610\n1990-01-01  14.319  North       14.3190\n1991-01-01  13.634  North       13.6340\n1992-01-01  14.069  North       14.0690\n1993-01-01  14.039  North       14.0390\n1994-01-01  14.094  North       14.0940\n1995-01-01  14.144  North       14.1440\n1996-01-01  13.804  North       13.8040\n1997-01-01  13.657  North       13.6570\n1998-01-01  14.025  North       14.0250\n1999-01-01  13.823  North       13.8230\n2000-01-01  13.442  North       13.4420\n2001-01-01  13.479  North       13.4790\n2002-01-01  13.590  North       13.5900\n2003-01-01  13.647  North       13.6470\n2004-01-01  13.502  North       13.5020\n2005-01-01  13.160  North       13.1600\n2006-01-01  13.160  North       13.1600\n2007-01-01  13.110  North       13.1100\n2008-01-01  13.206  North       13.2060\n2009-01-01  13.189  North       13.1890\n2010-01-01  13.205  North       13.2050"
      ]
     },
     "execution_count": 689,
     "metadata": {},
     "output_type": "execute_result"
    }
   ],
   "source": [
    "clim_data[(clim_data.index.month == 1)&(clim_data.index.day == 1)]"
   ]
  },
  {
   "cell_type": "code",
   "execution_count": 690,
   "metadata": {
    "collapsed": false
   },
   "outputs": [
    {
     "data": {
      "text/plain": [
       "extent          13.725600\ninterpolated    13.795017\ndtype: float64"
      ]
     },
     "execution_count": 690,
     "metadata": {},
     "output_type": "execute_result"
    }
   ],
   "source": [
    "clim_data[(clim_data.index.month == 1)&(clim_data.index.day == 1)].mean()"
   ]
  },
  {
   "cell_type": "code",
   "execution_count": 691,
   "metadata": {
    "collapsed": false
   },
   "outputs": [
    {
     "data": {
      "text/plain": [
       "     interpolated\n1 1     13.795017"
      ]
     },
     "execution_count": 691,
     "metadata": {},
     "output_type": "execute_result"
    }
   ],
   "source": [
    "clim_averages.head(1)"
   ]
  },
  {
   "cell_type": "code",
   "execution_count": 692,
   "metadata": {
    "collapsed": false
   },
   "outputs": [
    {
     "data": {
      "text/plain": [
       "     1981-2010\n1 1  13.795017"
      ]
     },
     "execution_count": 692,
     "metadata": {},
     "output_type": "execute_result"
    }
   ],
   "source": [
    "clim_averages = clim_averages.rename(columns={'interpolated': '1981-2010'})\n",
    "clim_averages.head(1)"
   ]
  },
  {
   "cell_type": "code",
   "execution_count": 695,
   "metadata": {
    "collapsed": false
   },
   "outputs": [
    {
     "data": {
      "text/plain": [
       "MultiIndex(levels=[[1, 2, 3, 4, 5, 6, 7, 8, 9, 10, 11, 12], [1, 2, 3, 4, 5, 6, 7, 8, 9, 10, 11, 12, 13, 14, 15, 16, 17, 18, 19, 20, 21, 22, 23, 24, 25, 26, 27, 28, 29, 30, 31]],\n           labels=[[0, 0, 0, 0, 0, 0, 0, 0, 0, 0, 0, 0, 0, 0, 0, 0, 0, 0, 0, 0, 0, 0, 0, 0, 0, 0, 0, 0, 0, 0, 0, 1, 1, 1, 1, 1, 1, 1, 1, 1, 1, 1, 1, 1, 1, 1, 1, 1, 1, 1, 1, 1, 1, 1, 1, 1, 1, 1, 1, 1, 2, 2, 2, 2, 2, 2, 2, 2, 2, 2, 2, 2, 2, 2, 2, 2, 2, 2, 2, 2, 2, 2, 2, 2, 2, 2, 2, 2, 2, 2, 2, 3, 3, 3, 3, 3, 3, 3, 3, 3, ...], [0, 1, 2, 3, 4, 5, 6, 7, 8, 9, 10, 11, 12, 13, 14, 15, 16, 17, 18, 19, 20, 21, 22, 23, 24, 25, 26, 27, 28, 29, 30, 0, 1, 2, 3, 4, 5, 6, 7, 8, 9, 10, 11, 12, 13, 14, 15, 16, 17, 18, 19, 20, 21, 22, 23, 24, 25, 26, 27, 28, 0, 1, 2, 3, 4, 5, 6, 7, 8, 9, 10, 11, 12, 13, 14, 15, 16, 17, 18, 19, 20, 21, 22, 23, 24, 25, 26, 27, 28, 29, 30, 0, 1, 2, 3, 4, 5, 6, 7, 8, ...]])"
      ]
     },
     "execution_count": 695,
     "metadata": {},
     "output_type": "execute_result"
    }
   ],
   "source": [
    "clim_averages.index"
   ]
  },
  {
   "cell_type": "markdown",
   "metadata": {
    "collapsed": true
   },
   "source": [
    "Set the daily extent data into the correct format for display and for concatenating with the clim_averages"
   ]
  },
  {
   "cell_type": "code",
   "execution_count": 707,
   "metadata": {
    "collapsed": false
   },
   "outputs": [
    {
     "data": {
      "text/plain": [
       "<class 'pandas.tseries.index.DatetimeIndex'>\n[1978-10-25, ..., 2015-05-05]\nLength: 13342, Freq: D, Timezone: None"
      ]
     },
     "execution_count": 707,
     "metadata": {},
     "output_type": "execute_result"
    }
   ],
   "source": [
    "df.index"
   ]
  },
  {
   "cell_type": "code",
   "execution_count": 708,
   "metadata": {
    "collapsed": false
   },
   "outputs": [],
   "source": [
    "df = df[['extent']].set_index([df.index.year, df.index.month, df.index.day]).unstack(0)\n"
   ]
  },
  {
   "cell_type": "code",
   "execution_count": 710,
   "metadata": {
    "collapsed": false
   },
   "outputs": [
    {
     "data": {
      "text/plain": [
       "MultiIndex(levels=[[1, 2, 3, 4, 5, 6, 7, 8, 9, 10, 11, 12], [1, 2, 3, 4, 5, 6, 7, 8, 9, 10, 11, 12, 13, 14, 15, 16, 17, 18, 19, 20, 21, 22, 23, 24, 25, 26, 27, 28, 29, 30, 31]],\n           labels=[[0, 0, 0, 0, 0, 0, 0, 0, 0, 0, 0, 0, 0, 0, 0, 0, 0, 0, 0, 0, 0, 0, 0, 0, 0, 0, 0, 0, 0, 0, 0, 1, 1, 1, 1, 1, 1, 1, 1, 1, 1, 1, 1, 1, 1, 1, 1, 1, 1, 1, 1, 1, 1, 1, 1, 1, 1, 1, 1, 1, 2, 2, 2, 2, 2, 2, 2, 2, 2, 2, 2, 2, 2, 2, 2, 2, 2, 2, 2, 2, 2, 2, 2, 2, 2, 2, 2, 2, 2, 2, 2, 3, 3, 3, 3, 3, 3, 3, 3, 3, ...], [0, 1, 2, 3, 4, 5, 6, 7, 8, 9, 10, 11, 12, 13, 14, 15, 16, 17, 18, 19, 20, 21, 22, 23, 24, 25, 26, 27, 28, 29, 30, 0, 1, 2, 3, 4, 5, 6, 7, 8, 9, 10, 11, 12, 13, 14, 15, 16, 17, 18, 19, 20, 21, 22, 23, 24, 25, 26, 27, 28, 0, 1, 2, 3, 4, 5, 6, 7, 8, 9, 10, 11, 12, 13, 14, 15, 16, 17, 18, 19, 20, 21, 22, 23, 24, 25, 26, 27, 28, 29, 30, 0, 1, 2, 3, 4, 5, 6, 7, 8, ...]])"
      ]
     },
     "execution_count": 710,
     "metadata": {},
     "output_type": "execute_result"
    }
   ],
   "source": [
    "df.index"
   ]
  },
  {
   "cell_type": "code",
   "execution_count": null,
   "metadata": {
    "collapsed": false
   },
   "outputs": [],
   "source": [
    "Remove extent level from columns"
   ]
  },
  {
   "cell_type": "code",
   "execution_count": 715,
   "metadata": {
    "collapsed": false
   },
   "outputs": [
    {
     "name": "stdout",
     "output_type": "stream",
     "text": [
      "Int64Index([1978, 1979, 1980, 1981, 1982, 1983, 1984, 1985, 1986, 1987, 1988, 1989, 1990, 1991, 1992, 1993, 1994, 1995, 1996, 1997, 1998, 1999, 2000, 2001, 2002, 2003, 2004, 2005, 2006, 2007, 2008, 2009, 2010, 2011, 2012, 2013, 2014, 2015], dtype='int64')\n"
     ]
    }
   ],
   "source": [
    "print df.columns\n",
    "df.columns = df.columns.droplevel()\n",
    "print df.columns"
   ]
  },
  {
   "cell_type": "code",
   "execution_count": 750,
   "metadata": {
    "collapsed": false
   },
   "outputs": [],
   "source": [
    "a = clim_averages.copy()"
   ]
  },
  {
   "cell_type": "code",
   "execution_count": 754,
   "metadata": {
    "collapsed": false
   },
   "outputs": [],
   "source": [
    "a['1981-2010'] = \"    \"\n",
    "a.rename(columns={'1981-2010': '   '}, inplace=True)\n"
   ]
  },
  {
   "cell_type": "code",
   "execution_count": 755,
   "metadata": {
    "collapsed": false
   },
   "outputs": [
    {
     "data": {
      "text/plain": [
       "           \n1  1       \n   2       \n   3       \n   4       \n   5       \n   6       \n   7       \n   8       \n   9       \n   10      \n   11      \n   12      \n   13      \n   14      \n   15      \n   16      \n   17      \n   18      \n   19      \n   20      \n   21      \n   22      \n   23      \n   24      \n   25      \n   26      \n   27      \n   28      \n   29      \n   30      \n...     ...\n12 2       \n   3       \n   4       \n   5       \n   6       \n   7       \n   8       \n   9       \n   10      \n   11      \n   12      \n   13      \n   14      \n   15      \n   16      \n   17      \n   18      \n   19      \n   20      \n   21      \n   22      \n   23      \n   24      \n   25      \n   26      \n   27      \n   28      \n   29      \n   30      \n   31      \n\n[366 rows x 1 columns]"
      ]
     },
     "execution_count": 755,
     "metadata": {},
     "output_type": "execute_result"
    }
   ],
   "source": [
    "a"
   ]
  },
  {
   "cell_type": "code",
   "execution_count": 756,
   "metadata": {
    "collapsed": false
   },
   "outputs": [],
   "source": [
    "daily_extent_with_climatological_average = pd.concat([df,a, clim_averages], axis=1)\n",
    "r = daily_extent_with_climatological_average"
   ]
  },
  {
   "cell_type": "markdown",
   "metadata": {
    "collapsed": true
   },
   "source": [
    "Add back a toplevel multi-index column"
   ]
  },
  {
   "cell_type": "code",
   "execution_count": 757,
   "metadata": {
    "collapsed": false
   },
   "outputs": [
    {
     "data": {
      "text/plain": [
       "Index([1978, 1979, 1980, 1981, 1982, 1983, 1984, 1985, 1986, 1987, 1988, 1989, 1990, 1991, 1992, 1993, 1994, 1995, 1996, 1997, 1998, 1999, 2000, 2001, 2002, 2003, 2004, 2005, 2006, 2007, 2008, 2009, 2010, 2011, 2012, 2013, 2014, 2015, u'   ', u'1981-2010'], dtype='object')"
      ]
     },
     "execution_count": 757,
     "metadata": {},
     "output_type": "execute_result"
    }
   ],
   "source": [
    "r.columns"
   ]
  },
  {
   "cell_type": "code",
   "execution_count": 758,
   "metadata": {
    "collapsed": false
   },
   "outputs": [],
   "source": [
    "r['extent'] = 'Daily Extents with climatological means (based on interpolated days)'\n",
    "r.set_index('extent', append=True, inplace=True)\n",
    "r = r.unstack('extent')\n",
    "r.columns =r.columns.reorder_levels(['extent', None])"
   ]
  },
  {
   "cell_type": "code",
   "execution_count": 759,
   "metadata": {
    "collapsed": false
   },
   "outputs": [],
   "source": [
    "import calendar\n",
    "month_names = [calendar.month_name[x] for x in range(1,13)]\n",
    "\n"
   ]
  },
  {
   "cell_type": "code",
   "execution_count": 760,
   "metadata": {
    "collapsed": false
   },
   "outputs": [],
   "source": [
    "writer = ExcelWriter('../output/test_daily.xls')\n",
    "r.to_excel(writer, float_format = \"%.3f\")\n",
    "writer.save()"
   ]
  },
  {
   "cell_type": "code",
   "execution_count": 562,
   "metadata": {
    "collapsed": false
   },
   "outputs": [],
   "source": [
    "# cleanup\n",
    "!rm -f NH_seaice_extent_final.csv NH_seaice_extent_nrt.csv SH_seaice_extent_final.csv SH_seaice_extent_nrt.csv\n"
   ]
  },
  {
   "cell_type": "code",
   "execution_count": null,
   "metadata": {
    "collapsed": false
   },
   "outputs": [],
   "source": []
  }
 ],
 "metadata": {
  "kernelspec": {
   "display_name": "Python 2",
   "language": "python",
   "name": "python2"
  },
  "language_info": {
   "codemirror_mode": {
    "name": "ipython",
    "version": 2
   },
   "file_extension": ".py",
   "mimetype": "text/x-python",
   "name": "python",
   "nbconvert_exporter": "python",
   "pygments_lexer": "ipython2",
   "version": "2.7.9"
  },
  "name": "Daily CSV and 5-day Sea Ice information.ipynb"
 },
 "nbformat": 4,
 "nbformat_minor": 0
}
