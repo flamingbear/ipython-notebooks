{
 "cells": [
  {
   "cell_type": "code",
   "execution_count": null,
   "metadata": {
    "collapsed": false,
    "tags": [
     "worksheet-0"
    ]
   },
   "outputs": [],
   "source": [
    "#fn = '/Users/savoie/projects/monthly_sea_ice_extent_tools/source/data/csvify/Dec/N_12_area.txt'\n",
    "fn = '/Users/savoie/projects/monthly_sea_ice_extent_tools/source/data/csvify/Jun/N_06_area.txt'\n",
    "#fn = '/Users/savoie/projects/monthly_sea_ice_extent_tools/source/data/csvify/Sep/N_09_area.txt'"
   ]
  },
  {
   "cell_type": "code",
   "execution_count": null,
   "metadata": {
    "collapsed": false,
    "tags": [
     "worksheet-0"
    ]
   },
   "outputs": [],
   "source": [
    "%matplotlib inline\n",
    "import matplotlib.pylab\n",
    "import pandas as pd\n",
    "import numpy as np\n",
    "import matplotlib as mpl\n",
    "import datetime as dt\n",
    "from scipy.stats import linregress\n",
    "pd.options.display.mpl_style = 'default'\n"
   ]
  },
  {
   "cell_type": "code",
   "execution_count": null,
   "metadata": {
    "collapsed": false,
    "tags": [
     "worksheet-0"
    ]
   },
   "outputs": [],
   "source": [
    "def slurp_csv(filename):\n",
    "    data = pd.read_csv(filename,\n",
    "                       error_bad_lines=False,\n",
    "                       skipinitialspace=True,\n",
    "                       delimiter='\\s+' )\n",
    "    data.rename(columns={'mo': 'month', \"region\":\"hemisphere\"}, inplace=True)\n",
    "    return data.dropna()\n"
   ]
  },
  {
   "cell_type": "code",
   "execution_count": null,
   "metadata": {
    "collapsed": false,
    "tags": [
     "worksheet-0"
    ]
   },
   "outputs": [],
   "source": [
    "data = slurp_csv(fn)"
   ]
  },
  {
   "cell_type": "markdown",
   "metadata": {
    "collapsed": true,
    "tags": [
     "worksheet-0"
    ]
   },
   "source": [
    "Set missing data to None Type."
   ]
  },
  {
   "cell_type": "code",
   "execution_count": null,
   "metadata": {
    "collapsed": false,
    "tags": [
     "worksheet-0"
    ]
   },
   "outputs": [],
   "source": [
    "data.loc[ data.extent <= 0, ['extent', 'area', 'data_type']] = None\n",
    "data = data.convert_objects(convert_numeric=True)"
   ]
  },
  {
   "cell_type": "code",
   "execution_count": null,
   "metadata": {
    "collapsed": false,
    "tags": [
     "worksheet-0"
    ]
   },
   "outputs": [],
   "source": [
    "data.dtypes"
   ]
  },
  {
   "cell_type": "code",
   "execution_count": null,
   "metadata": {
    "collapsed": false,
    "tags": [
     "worksheet-0"
    ]
   },
   "outputs": [],
   "source": [
    "a = data.copy()"
   ]
  },
  {
   "cell_type": "markdown",
   "metadata": {
    "collapsed": true,
    "tags": [
     "worksheet-0"
    ]
   },
   "source": [
    "Create an column of Date Periods and set it as the index."
   ]
  },
  {
   "cell_type": "code",
   "execution_count": null,
   "metadata": {
    "collapsed": false,
    "tags": [
     "worksheet-0"
    ]
   },
   "outputs": [],
   "source": [
    "a['dates']= [pd.Period(dt.date(int(x[0]), int(x[1]), 1), \"M\") for x in zip(a.values[:,0], a.values[:,1])]\n",
    "a = a.set_index('dates')"
   ]
  },
  {
   "cell_type": "code",
   "execution_count": null,
   "metadata": {
    "collapsed": false,
    "tags": [
     "worksheet-0"
    ]
   },
   "outputs": [],
   "source": [
    "a.head()"
   ]
  },
  {
   "cell_type": "markdown",
   "metadata": {
    "collapsed": true,
    "tags": [
     "worksheet-0"
    ]
   },
   "source": [
    "create new dataframe for the (rank sorted stuff)"
   ]
  },
  {
   "cell_type": "code",
   "execution_count": null,
   "metadata": {
    "collapsed": false,
    "tags": [
     "worksheet-0"
    ]
   },
   "outputs": [],
   "source": [
    "b = pd.DataFrame(index=a.index)"
   ]
  },
  {
   "cell_type": "code",
   "execution_count": null,
   "metadata": {
    "collapsed": false,
    "tags": [
     "worksheet-0"
    ]
   },
   "outputs": [],
   "source": [
    "#filler\n",
    "b[' reordered => '] = \" \"\n",
    "\n",
    "b['rank'] = pd.DataFrame(data=a['extent'].rank(ascending=1))#.rename(columns={'extent':'rank'})"
   ]
  },
  {
   "cell_type": "code",
   "execution_count": null,
   "metadata": {
    "collapsed": false,
    "tags": [
     "worksheet-0"
    ]
   },
   "outputs": [],
   "source": [
    "\n",
    "b['ranked_year'] = a['year']\n",
    "b['ranked_extent'] = a['extent']"
   ]
  },
  {
   "cell_type": "code",
   "execution_count": null,
   "metadata": {
    "collapsed": false,
    "tags": [
     "worksheet-0"
    ]
   },
   "outputs": [],
   "source": [
    "b.sort('rank', ascending=True, inplace=True)"
   ]
  },
  {
   "cell_type": "markdown",
   "metadata": {
    "collapsed": true,
    "tags": [
     "worksheet-0"
    ]
   },
   "source": [
    "compute extent anomaly"
   ]
  },
  {
   "cell_type": "code",
   "execution_count": null,
   "metadata": {
    "collapsed": false,
    "tags": [
     "worksheet-0"
    ]
   },
   "outputs": [],
   "source": [
    "climatological_mean = a[(a.year >= 1981) & (a.year <= 2010)].extent.mean()"
   ]
  },
  {
   "cell_type": "code",
   "execution_count": null,
   "metadata": {
    "collapsed": false,
    "tags": [
     "worksheet-0"
    ]
   },
   "outputs": [],
   "source": [
    "a['extent_anomaly'] = a.extent - climatological_mean"
   ]
  },
  {
   "cell_type": "code",
   "execution_count": null,
   "metadata": {
    "collapsed": false,
    "tags": [
     "worksheet-0"
    ]
   },
   "outputs": [],
   "source": [
    "a.head()"
   ]
  },
  {
   "cell_type": "markdown",
   "metadata": {
    "collapsed": true,
    "tags": [
     "worksheet-0"
    ]
   },
   "source": [
    "I can't get expanding apply to work with two values, and I can't cram them together so I'm going to have to loop over the indices."
   ]
  },
  {
   "cell_type": "code",
   "execution_count": null,
   "metadata": {
    "collapsed": false,
    "tags": [
     "worksheet-0"
    ]
   },
   "outputs": [],
   "source": [
    "a['trend_through_year_km2_per_year'] = None\n",
    "a['p_value'] = None\n",
    "a['r_value'] = None\n",
    "a['stderr'] = None\n",
    "a['Significant'] = False\n",
    "a['% trend_through_year'] = None"
   ]
  },
  {
   "cell_type": "code",
   "execution_count": null,
   "metadata": {
    "collapsed": false,
    "tags": [
     "worksheet-0"
    ]
   },
   "outputs": [],
   "source": [
    "a[['trend_through_year_km2_per_year','p_value', 'r_value', 'stderr', '% trend_through_year']] = a[['trend_through_year_km2_per_year','p_value', 'r_value', 'stderr', '% trend_through_year']].astype(np.float64)"
   ]
  },
  {
   "cell_type": "markdown",
   "metadata": {
    "collapsed": true,
    "tags": [
     "worksheet-0"
    ]
   },
   "source": [
    "Article on operational definition of Statistically Meaningful Trend (may or may not be correct in our case)\n",
    "http://www.ncbi.nlm.nih.gov/pmc/articles/PMC3084280/\n",
    "\n",
    "If one or several regressions concerning time and values in a time series, or\n",
    "time and mean values from intervals into which the series has been divided,\n",
    "yields r2≥0.65 and p≤0.05, then the time series is statistically meaningful."
   ]
  },
  {
   "cell_type": "code",
   "execution_count": null,
   "metadata": {
    "collapsed": false,
    "tags": [
     "worksheet-0"
    ]
   },
   "outputs": [],
   "source": [
    "for i in range(0,len(a)):\n",
    "    cum_df = a.iloc[:i+1]\n",
    "    (slope, intercept, r_value, p_value, stderr) = linregress(cum_df['year'], cum_df['extent'])\n",
    "    a.ix[i, ['trend_through_year_km2_per_year', 'r_value', 'p_value', 'stderr']] = round(slope, 4) * 1000000, r_value, p_value, stderr\n",
    "    a.ix[i, '% trend_through_year'] =  slope / climatological_mean * 10 * 100.\n",
    "    a.ix[i, 'Significant'] = (np.square(r_value) >= .65) & (p_value <= .05)\n",
    "\n"
   ]
  },
  {
   "cell_type": "code",
   "execution_count": null,
   "metadata": {
    "collapsed": false,
    "tags": [
     "worksheet-0"
    ]
   },
   "outputs": [],
   "source": [
    "# cram the two parts together \n",
    "a = a.reset_index().join(b.reset_index(drop=True))"
   ]
  },
  {
   "cell_type": "code",
   "execution_count": null,
   "metadata": {
    "collapsed": false,
    "tags": [
     "worksheet-0"
    ]
   },
   "outputs": [],
   "source": [
    "with open('../output/test.csv', 'w') as fp:\n",
    "    fp.write('This is line1\\n')\n",
    "    fp.write('This is line2\\n')\n",
    "    a.to_csv(fp, header=True, float_format=\"%3.2f\", index=False )"
   ]
  },
  {
   "cell_type": "code",
   "execution_count": null,
   "metadata": {
    "collapsed": false,
    "tags": [
     "worksheet-0"
    ]
   },
   "outputs": [],
   "source": []
  },
  {
   "cell_type": "code",
   "execution_count": null,
   "metadata": {
    "collapsed": false,
    "tags": [
     "worksheet-0"
    ]
   },
   "outputs": [],
   "source": []
  }
 ],
 "metadata": {},
 "nbformat": 4,
 "nbformat_minor": 0
}
