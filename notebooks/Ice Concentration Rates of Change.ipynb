{
 "cells": [
  {
   "cell_type": "markdown",
   "metadata": {
    "collapsed": true,
    "tags": [
     "worksheet-0"
    ]
   },
   "source": [
    "# Monthly Ice Rates of Change\n",
    "\n",
    "Compute the Change in ice concentration month over month."
   ]
  },
  {
   "cell_type": "markdown",
   "metadata": {
    "collapsed": true,
    "tags": [
     "worksheet-0"
    ]
   },
   "source": [
    "Walt: \"I would do it by taking extent on last day of month minus the last day of the previous month. Then divide by # of days in month to get daily rate.  I used the 5-day values.\""
   ]
  },
  {
   "cell_type": "code",
   "execution_count": null,
   "metadata": {
    "collapsed": false,
    "tags": [
     "worksheet-0"
    ]
   },
   "outputs": [],
   "source": [
    "import calendar\n",
    "\n",
    "import numpy as np\n",
    "import pandas as pd\n",
    "from pandas import ExcelWriter\n",
    "\n",
    "import seaice_timeseries.daily as daily"
   ]
  },
  {
   "cell_type": "code",
   "execution_count": null,
   "metadata": {
    "collapsed": false,
    "tags": [
     "worksheet-0"
    ]
   },
   "outputs": [],
   "source": [
    "km2_2_mi2 = 0.386102"
   ]
  },
  {
   "cell_type": "code",
   "execution_count": null,
   "metadata": {
    "collapsed": false,
    "tags": [
     "worksheet-0"
    ]
   },
   "outputs": [],
   "source": [
    "month_dict = {}\n",
    "for i in range(1,13):\n",
    "    month_dict[i] = calendar.month_name[i]"
   ]
  },
  {
   "cell_type": "code",
   "execution_count": null,
   "metadata": {
    "collapsed": false,
    "tags": [
     "worksheet-0"
    ]
   },
   "outputs": [],
   "source": [
    "def rolling_mean(df, column, num_days=5, min_valid=2):\n",
    "    return pd.rolling_mean(df[column], window=num_days, min_periods=min_valid)\n"
   ]
  },
  {
   "cell_type": "code",
   "execution_count": null,
   "metadata": {
    "collapsed": false,
    "tags": [
     "worksheet-0"
    ]
   },
   "outputs": [],
   "source": [
    "df_in = daily.daily_data('north')"
   ]
  },
  {
   "cell_type": "code",
   "execution_count": null,
   "metadata": {
    "collapsed": false,
    "tags": [
     "worksheet-0"
    ]
   },
   "outputs": [],
   "source": [
    "df = df_in.copy()\n",
    "df['interpolated_extent'] = df['extent'].interpolate(limit=1)\n",
    "df['5 Day'] = rolling_mean(df, 'interpolated_extent')\n",
    "df['day'] = df.index.day\n",
    "df['month'] = df.index.month\n",
    "df['year'] = df.index.year"
   ]
  },
  {
   "cell_type": "code",
   "execution_count": null,
   "metadata": {
    "collapsed": false,
    "tags": [
     "worksheet-0"
    ]
   },
   "outputs": [],
   "source": [
    "a = df.groupby([df.index.year, df.index.month]).last()\n",
    "a['ice change Mkm^2 per month'] = a['5 Day'].diff(periods=1)\n",
    "a['ice change km^2 per day'] = (a['ice change Mkm^2 per month'] / a['day']) * 1000000\n",
    "a['ice change mi^2 per month'] = a['ice change Mkm^2 per month'] * km2_2_mi2 * 1000000\n",
    "a['ice change mi^2 per day'] = a['ice change km^2 per day'] * km2_2_mi2"
   ]
  },
  {
   "cell_type": "code",
   "execution_count": null,
   "metadata": {
    "collapsed": false,
    "tags": [
     "worksheet-0"
    ]
   },
   "outputs": [],
   "source": [
    "a.loc[2015, 6]"
   ]
  },
  {
   "cell_type": "code",
   "execution_count": null,
   "metadata": {
    "collapsed": false,
    "tags": [
     "worksheet-0"
    ]
   },
   "outputs": [],
   "source": [
    "a = a.unstack(1)"
   ]
  },
  {
   "cell_type": "code",
   "execution_count": null,
   "metadata": {
    "collapsed": false,
    "tags": [
     "worksheet-0"
    ]
   },
   "outputs": [],
   "source": [
    "a = a.rename(columns=month_dict)"
   ]
  },
  {
   "cell_type": "code",
   "execution_count": null,
   "metadata": {
    "collapsed": false,
    "tags": [
     "worksheet-0"
    ]
   },
   "outputs": [],
   "source": [
    "a.head()"
   ]
  },
  {
   "cell_type": "code",
   "execution_count": null,
   "metadata": {
    "collapsed": false,
    "tags": [
     "worksheet-0"
    ]
   },
   "outputs": [],
   "source": [
    "writer = ExcelWriter('../output/Sea_Ice_Rates_of_Change.xls', engine='xlsxwriter')\n",
    "\n",
    "sheets = [u'ice change Mkm^2 per month', u'ice change km^2 per day', u'ice change mi^2 per month', u'ice change mi^2 per day']\n",
    "\n",
    "for sheet in sheets:\n",
    "    a[sheet].to_excel(writer, \"{0}\".format(sheet), float_format=\"%.3f\", startrow=1, startcol=0)\n",
    "    writer.sheets[sheet].write_string(0,0, \"{} from 5 Day Averaged Daily Values\".format( sheet ))\n",
    "    \n",
    "\n",
    "workbook = writer.book\n",
    "# add colors blue with blue\n",
    "format1 = workbook.add_format({'bg_color':   '#CEC7FF',\n",
    "                               'font_color': '#06009C'})\n",
    "\n",
    "# add colors red with red\n",
    "format2 = workbook.add_format({'bg_color':   '#FFC7CE',\n",
    "                               'font_color': '#9C0006'})\n",
    "\n",
    "\n",
    "\n",
    "for sheet in sheets:\n",
    "    worksheet = writer.sheets[sheet]\n",
    "    worksheet.conditional_format('B3:ZZ369', {'type':     'cell',\n",
    "                                              'criteria': '>',\n",
    "                                              'value':    0,\n",
    "                                              'format':   format1})\n",
    "\n",
    "    worksheet.conditional_format('B3:ZZ369', {'type':     'cell',\n",
    "                                              'criteria': '<',\n",
    "                                              'value':    0,\n",
    "                                              'format':   format2})\n",
    "\n",
    "\n",
    "\n",
    "writer.save()"
   ]
  },
  {
   "cell_type": "code",
   "execution_count": null,
   "metadata": {
    "collapsed": false,
    "tags": [
     "worksheet-0"
    ]
   },
   "outputs": [],
   "source": []
  }
 ],
 "metadata": {},
 "nbformat": 4,
 "nbformat_minor": 0
}
