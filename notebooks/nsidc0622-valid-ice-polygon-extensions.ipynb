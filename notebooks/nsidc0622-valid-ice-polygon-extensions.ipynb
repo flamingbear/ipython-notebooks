{
 "cells": [
  {
   "cell_type": "markdown",
   "metadata": {
    "collapsed": true
   },
   "source": [
    "## Describe the polygon extensions to the NIC climatology "
   ]
  },
  {
   "cell_type": "markdown",
   "metadata": {
    "collapsed": true
   },
   "source": [
    "This document demonstrates how we extend the possible ice regions for the nsidc-0622 valid-ice-masks.\n",
    "\n",
    "From our documentation: \n",
    "http://nsidc.org/data/docs/daac/nsidc0622-valid-ice-masks/#spatialcover\n",
    "\n",
    "The spatial coverage of the input NIC climatologies is limited to north of\n",
    "45° N latitude, however, there are instances where valid sea ice occurs south\n",
    "of this latitude for certain winter months. To capture commonly occurring ice\n",
    "in these areas, the valid-ice region in the mask is extended in two separate\n",
    "regions for the months of December and January through April based on the\n",
    "experience of the investigators with many other sources of sea ice\n",
    "information. See Figure 1.\n",
    "\n",
    "One extension is in the Sea of Japan and the Sea of Okhotsk. This region is\n",
    "between 126° E and 146° E and extends from 45° N latitude to the line formed\n",
    "between the two points (42° N, 126° E) and (39.5° N, 146° E).\n",
    "\n",
    "The other extension covers much of the Bohai Sea. This region is between\n",
    "126° E to 115° E and 45° N to 38° N.\n"
   ]
  },
  {
   "cell_type": "code",
   "execution_count": 3,
   "metadata": {
    "collapsed": false
   },
   "outputs": [],
   "source": [
    "%matplotlib inline\n",
    "from netCDF4 import Dataset\n",
    "import numpy as np\n",
    "import matplotlib as mpl\n",
    "import matplotlib.pyplot as plt\n"
   ]
  },
  {
   "cell_type": "markdown",
   "metadata": {
    "collapsed": true
   },
   "source": [
    "Read in the one of the NSIDC ice masks as your baseline.\n",
    "\n",
    "When the data is live, we can put a command that would actually download this mask file here but for now It's predownloaded.\n"
   ]
  },
  {
   "cell_type": "code",
   "execution_count": 4,
   "metadata": {
    "collapsed": false
   },
   "outputs": [],
   "source": [
    "mask_fn = '../data/nsidc0622/NIC_valid_ice_mask.N25km.01.1972-2007.nc'\n",
    "nc = Dataset(mask_fn, 'r')\n",
    "mask = nc.variables['loci_flag'][:]\n",
    "lats = nc.variables['latitude'][:]\n",
    "lons = nc.variables['longitude'][:]"
   ]
  },
  {
   "cell_type": "code",
   "execution_count": 5,
   "metadata": {
    "collapsed": false
   },
   "outputs": [
    {
     "data": {
      "text/plain": [
       "<matplotlib.figure.Figure at 0x1062a1210>"
      ]
     },
     "metadata": {},
     "output_type": "display_data"
    }
   ],
   "source": [
    "# create coastlines for display\n",
    "coast = mask == 2\n",
    "with mpl.rc_context(rc={'figure.figsize': (10,9), 'axes.grid':False}, ):\n",
    "    plt.imshow(coast, cmap=\"Blues\")"
   ]
  },
  {
   "cell_type": "markdown",
   "metadata": {
    "collapsed": true
   },
   "source": [
    "### Create Bohai region\n",
    "\n",
    "bohai region = 126° E to 115° E and 45° N to 38° N.\n",
    "\n",
    "Set a variable with only bohai region set."
   ]
  },
  {
   "cell_type": "code",
   "execution_count": 6,
   "metadata": {
    "collapsed": false
   },
   "outputs": [
    {
     "data": {
      "text/plain": [
       "<matplotlib.figure.Figure at 0x109873b50>"
      ]
     },
     "metadata": {},
     "output_type": "display_data"
    }
   ],
   "source": [
    "bohai = ((lons >= 115) & (lons <= 126) & (lats <= 45) & (lats >= 38))\n",
    "with mpl.rc_context(rc={'figure.figsize': (10,9), 'axes.grid':False}, ):\n",
    "    plt.imshow((bohai*1.2) + coast, cmap=\"Blues\")"
   ]
  },
  {
   "cell_type": "markdown",
   "metadata": {
    "collapsed": true
   },
   "source": [
    "### Create Okhotsk region\n",
    "\n",
    "One extension is in the Sea of Japan and the Sea of Okhotsk. This region is\n",
    "between 126° E and 146° E and extends from 45° N latitude to the line formed\n",
    "between the two points (42° N, 146° E) and (39.5° N, 126° E).\n"
   ]
  },
  {
   "cell_type": "markdown",
   "metadata": {
    "collapsed": true
   },
   "source": [
    "Set a variable with only points inside the okhotsk region nonzero\n",
    "\n",
    "Create a Path object with the lonx,lat aka (x,y) pairs for the polygon we wish to fill with possible ice.\n",
    "Create a subset of your entire grid called candidates that encompases the entire polygon\n"
   ]
  },
  {
   "cell_type": "code",
   "execution_count": 7,
   "metadata": {
    "collapsed": false
   },
   "outputs": [
    {
     "data": {
      "text/plain": [
       "(2305,)"
      ]
     },
     "execution_count": 7,
     "metadata": {},
     "output_type": "execute_result"
    }
   ],
   "source": [
    "okhotsk = mpl.path.Path([[126, 39.5], [126, 45], [146, 45], [146, 42], [126, 39.5]])\n",
    "candidates = ((lons >= 126) & (lons <= 146) & (lats >= 38) & (lats <= 45))\n",
    "\n",
    "lons[candidates].shape\n",
    "lats[candidates].shape\n"
   ]
  },
  {
   "cell_type": "markdown",
   "metadata": {
    "collapsed": true
   },
   "source": [
    "Create the okhotsk_mask by filling a blank variable with 1s where we are inside your desired polygon"
   ]
  },
  {
   "cell_type": "code",
   "execution_count": 8,
   "metadata": {
    "collapsed": false
   },
   "outputs": [
    {
     "data": {
      "text/plain": [
       "<matplotlib.image.AxesImage at 0x10a885c10>"
      ]
     },
     "execution_count": 8,
     "metadata": {},
     "output_type": "execute_result"
    },
    {
     "data": {
      "text/plain": [
       "<matplotlib.figure.Figure at 0x109ace510>"
      ]
     },
     "metadata": {},
     "output_type": "display_data"
    }
   ],
   "source": [
    "okhotsk_mask = mask.copy() * 0\n",
    "inside = [okhotsk.contains_point(x) for x in  zip(lons[candidates], lats[candidates])]\n",
    "okhotsk_mask[candidates] = np.where(inside, 1, 0)\n",
    "plt.imshow((okhotsk_mask*1.2) + coast, cmap=\"Blues\")"
   ]
  },
  {
   "cell_type": "markdown",
   "metadata": {
    "collapsed": true
   },
   "source": [
    "So here's the regions we want to show the user that we adjusted by hand"
   ]
  },
  {
   "cell_type": "code",
   "execution_count": 9,
   "metadata": {
    "collapsed": false
   },
   "outputs": [
    {
     "data": {
      "text/plain": [
       "<matplotlib.contour.QuadContourSet instance at 0x10acf0ef0>"
      ]
     },
     "execution_count": 9,
     "metadata": {},
     "output_type": "execute_result"
    },
    {
     "data": {
      "text/plain": [
       "<matplotlib.figure.Figure at 0x10a151c50>"
      ]
     },
     "metadata": {},
     "output_type": "display_data"
    }
   ],
   "source": [
    "\n",
    "plt.imshow(mask, cmap='Blues')\n",
    "plt.contour(bohai, colors=('orange'))\n",
    "plt.contour(okhotsk_mask, colors=('yellow'))\n",
    "plt.contour(bohai, colors=('orange'))\n"
   ]
  },
  {
   "cell_type": "markdown",
   "metadata": {
    "collapsed": true
   },
   "source": [
    "But we'd like it to look nice like in the documentation"
   ]
  },
  {
   "cell_type": "code",
   "execution_count": 10,
   "metadata": {
    "collapsed": false
   },
   "outputs": [],
   "source": [
    "# set up a color dictionary\n",
    "c = {'land': \"#BE9F82\",\n",
    "     'ice': \"#FFFFFF\",\n",
    "     'lake': \"#0B3168\",\n",
    "     'coast': \"#000000\",\n",
    "     'ocean': \"#82B2D1\",\n",
    "     'okhotsk': \"#A9B731\",\n",
    "     'bohai': \"#E8924B\"}"
   ]
  },
  {
   "cell_type": "code",
   "execution_count": 11,
   "metadata": {
    "collapsed": false
   },
   "outputs": [],
   "source": [
    "# set up our colortable and normalize function\n",
    "\n",
    "# remember:\n",
    "# flag_values: [0 1 2 3 4]\n",
    "# flag_meanings: ocean possible_ice coast land lake\n",
    "colormap = mpl.colors.ListedColormap([c['ocean'], c['ice'], c['coast'], c['land'],c['lake'], c['bohai'], c['okhotsk']])\n",
    "bounds = [0, 1, 2, 3, 4, 5, 6, 7]\n",
    "norm = mpl.colors.BoundaryNorm(bounds, colormap.N)\n"
   ]
  },
  {
   "cell_type": "markdown",
   "metadata": {
    "collapsed": true
   },
   "source": [
    "Create new images\n",
    "Start with a copy of the January mask\n",
    "Where we're in the bohai region and there is open water in the January masks, set the value to 5\n",
    "Where we're in the okhotsk region and there is open water in the January masks, set the value to 6"
   ]
  },
  {
   "cell_type": "code",
   "execution_count": 12,
   "metadata": {
    "collapsed": false
   },
   "outputs": [],
   "source": [
    "mmask = mask.copy()\n",
    "mmask= np.where(bohai & (mmask==1), 5, mmask)\n",
    "mmask = np.where(okhotsk_mask & (mmask == 1), 6, mmask)\n",
    "\n"
   ]
  },
  {
   "cell_type": "markdown",
   "metadata": {
    "collapsed": true
   },
   "source": [
    "Create a nice looking image with the possible ice colored and the lat/lon regions bounded"
   ]
  },
  {
   "cell_type": "code",
   "execution_count": 13,
   "metadata": {
    "collapsed": false
   },
   "outputs": [
    {
     "data": {
      "text/plain": [
       "<matplotlib.figure.Figure at 0x10a8c7250>"
      ]
     },
     "metadata": {},
     "output_type": "display_data"
    }
   ],
   "source": [
    "with mpl.rc_context(rc={'figure.figsize': (10,9), 'axes.grid':False}, ):\n",
    "    plt.imshow(mmask, interpolation=\"nearest\", cmap=colormap, norm=norm)\n",
    "    plt.contour(okhotsk_mask, colors=(c['okhotsk']))\n",
    "    plt.contour(bohai, colors=(c['bohai']))\n",
    "    # save an output image\n",
    "    plt.gcf().savefig('sea_ice_example.png', bbox_inches='tight')"
   ]
  },
  {
   "cell_type": "code",
   "execution_count": null,
   "metadata": {
    "collapsed": false
   },
   "outputs": [],
   "source": []
  }
 ],
 "metadata": {
  "kernelspec": {
   "display_name": "Python 2",
   "language": "python",
   "name": "python2"
  },
  "language_info": {
   "codemirror_mode": {
    "name": "ipython",
    "version": 2
   },
   "file_extension": ".py",
   "mimetype": "text/x-python",
   "name": "python",
   "nbconvert_exporter": "python",
   "pygments_lexer": "ipython2",
   "version": "2.7.9"
  },
  "name": "nsidc0622-valid-ice-polygon-extensions.ipynb"
 },
 "nbformat": 4,
 "nbformat_minor": 0
}
